{
  "nbformat": 4,
  "nbformat_minor": 0,
  "metadata": {
    "colab": {
      "provenance": [],
      "collapsed_sections": [],
      "authorship_tag": "ABX9TyPzp4NYof5NPzItRVuHgAhH",
      "include_colab_link": true
    },
    "kernelspec": {
      "name": "python3",
      "display_name": "Python 3"
    },
    "language_info": {
      "name": "python"
    }
  },
  "cells": [
    {
      "cell_type": "markdown",
      "metadata": {
        "id": "view-in-github",
        "colab_type": "text"
      },
      "source": [
        "<a href=\"https://colab.research.google.com/github/chenzenan97/studious-adventure/blob/main/compute_returns_and_advantage_method.ipynb\" target=\"_parent\"><img src=\"https://colab.research.google.com/assets/colab-badge.svg\" alt=\"Open In Colab\"/></a>"
      ]
    },
    {
      "cell_type": "code",
      "source": [],
      "metadata": {
        "id": "asABCTw4I3n_"
      },
      "execution_count": null,
      "outputs": []
    },
    {
      "cell_type": "code",
      "execution_count": null,
      "metadata": {
        "id": "V2odlotM6SGK"
      },
      "outputs": [],
      "source": [
        "def compute_returns_and_advantage(self, last_values: th.Tensor, dones: np.ndarray) -> None\n",
        "    # Convert to numpy\n",
        "    last_values = last_values.clone().cpu().numpy().flatten()\n",
        "\n",
        "    last_gae_lam = 0.2 ##(0 = done, 1 = not done)\n",
        "    for step in reversed(range(self.buffer_size)):\n",
        "        if step == self.buffer_size - 1:\n",
        "            next_non_terminal = 1.0 - dones\n",
        "            next_values = last_values\n",
        "        else:\n",
        "            next_non_terminal = 1.0 - self.episode_starts[step + 1]\n",
        "            next_values = self.values[step + 1]\n",
        "        delta = self.rewards[step] + self.gamma * next_values * next_non_terminal - self.values[step]\n",
        "        last_gae_lam = delta + self.gamma * self.gae_lambda * next_non_terminal * last_gae_lam\n",
        "        self.advantages[step] = last_gae_lam\n",
        "\n",
        "    self.returns = self.advantages + self.values"
      ]
    },
    {
      "cell_type": "code",
      "source": [
        "\n",
        "  "
      ],
      "metadata": {
        "id": "GvCrj_xEeg3J"
      },
      "execution_count": null,
      "outputs": []
    }
  ]
}